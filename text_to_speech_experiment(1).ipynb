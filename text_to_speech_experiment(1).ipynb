{
 "cells": [
  {
   "cell_type": "code",
   "execution_count": 2,
   "metadata": {},
   "outputs": [],
   "source": [
    "# Import the required module for text  \n",
    "# to speech conversion \n",
    "from gtts import gTTS \n",
    "  \n",
    "# This module is imported so that we can  \n",
    "# play the converted audio \n",
    "import os \n",
    "import pandas as pd"
   ]
  },
  {
   "cell_type": "code",
   "execution_count": 9,
   "metadata": {},
   "outputs": [
    {
     "data": {
      "text/plain": [
       "\"The investigational vaccine was developed by the biotechnology company Moderna and the National Institute of Allergy and Infectious Diseases, part of the National Institutes of Health. The trial is to be conducted at nearly 100 US research sites, according to Moderna. The first patient was dosed at a site in Savannah, Georgia.\\nThe trial is expected to enroll about 30,000 adult volunteers and evaluates the safety of the Moderna/NIH vaccine and whether it can prevent symptomatic Covid-19 after two doses, among other outcomes. Volunteers will receive either two 100 microgram injections of the vaccine or a placebo about 28 days apart. Investigators and participants will not know who has received the vaccine.\\nLooking to purchase your first bed-in-a-box mattress? Here's exactly what to know before buying and a list of our top five mattress online delivery brands to try out now.\\nResults from a Phase 1 trial of the vaccine published earlier this month in the New England Journal of Medicine found it induced immune responses in all of the volunteers and was generally safe. It had mild side effects, including fatigue, chills, headache, muscle pain, pain at the injection site.\\nA Phase 1 study typically studies a small number of people and focuses on whether a vaccine is safe and elicits an immune response. In Phase 2, the clinical study is expanded and the vaccine is given to people who have characteristics -- such as age and physical health -- similar to those for whom the new vaccine is intended, according to the US Centers for Disease Control and Prevention. In Phase 3, the vaccine is given to thousands of people and tested for efficacy and again for safety.\""
      ]
     },
     "execution_count": 9,
     "metadata": {},
     "output_type": "execute_result"
    }
   ],
   "source": [
    "with open('sample_blog.txt', 'r') as reader:\n",
    "    mytext = reader.read()\n",
    "    \n",
    "mytext"
   ]
  },
  {
   "cell_type": "code",
   "execution_count": 10,
   "metadata": {},
   "outputs": [
    {
     "data": {
      "text/plain": [
       "1"
      ]
     },
     "execution_count": 10,
     "metadata": {},
     "output_type": "execute_result"
    }
   ],
   "source": [
    "# The text that you want to convert to audio \n",
    "#mytext = 'this my first recording!'\n",
    "  \n",
    "# Language in which you want to convert \n",
    "language = 'en'\n",
    "  \n",
    "# Passing the text and language to the engine,  \n",
    "# here we have marked slow=False. Which tells  \n",
    "# the module that the converted audio should  \n",
    "# have a high speed \n",
    "myobj = gTTS(text=mytext, lang=language, slow=False) \n",
    "  \n",
    "# Saving the converted audio in a mp3 file named \n",
    "# welcome  \n",
    "myobj.save(\"welcome.mp3\") \n",
    "  \n",
    "# Playing the converted file \n",
    "os.system(\"mpg321 welcome.mp3\") "
   ]
  },
  {
   "cell_type": "code",
   "execution_count": null,
   "metadata": {},
   "outputs": [],
   "source": []
  }
 ],
 "metadata": {
  "kernelspec": {
   "display_name": "Python 3",
   "language": "python",
   "name": "python3"
  },
  "language_info": {
   "codemirror_mode": {
    "name": "ipython",
    "version": 3
   },
   "file_extension": ".py",
   "mimetype": "text/x-python",
   "name": "python",
   "nbconvert_exporter": "python",
   "pygments_lexer": "ipython3",
   "version": "3.6.6"
  }
 },
 "nbformat": 4,
 "nbformat_minor": 2
}
