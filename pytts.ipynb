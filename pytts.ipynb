{
 "cells": [
  {
   "cell_type": "code",
   "execution_count": 9,
   "metadata": {},
   "outputs": [],
   "source": [
    "import pyttsx3\n",
    "voiceEngine = pyttsx3.init()"
   ]
  },
  {
   "cell_type": "code",
   "execution_count": 10,
   "metadata": {},
   "outputs": [
    {
     "name": "stdout",
     "output_type": "stream",
     "text": [
      "200\n",
      "1.0\n",
      "HKEY_LOCAL_MACHINE\\SOFTWARE\\Microsoft\\Speech\\Voices\\Tokens\\TTS_MS_EN-US_DAVID_11.0\n"
     ]
    }
   ],
   "source": [
    "rate = voiceEngine.getProperty('rate')\n",
    "volume = voiceEngine.getProperty('volume')\n",
    "voice = voiceEngine.getProperty('voice')\n",
    " \n",
    "print(rate)\n",
    "print(volume)\n",
    "print(voice)"
   ]
  },
  {
   "cell_type": "code",
   "execution_count": 11,
   "metadata": {},
   "outputs": [],
   "source": [
    "newVoiceRate = 50\n",
    "while newVoiceRate <= 300:\n",
    "    voiceEngine.setProperty('rate', newVoiceRate)\n",
    "    voiceEngine.say('Testing different voice rates.')\n",
    "    voiceEngine.runAndWait()\n",
    "    newVoiceRate = newVoiceRate+50\n",
    " \n",
    "voiceEngine.setProperty('rate', 125)\n",
    " \n",
    "newVolume = 0.1\n",
    "while newVolume <= 1:\n",
    "    voiceEngine.setProperty('volume', newVolume)\n",
    "    voiceEngine.say('Testing different voice volumes.')\n",
    "    voiceEngine.runAndWait()\n",
    "    newVolume = newVolume+0.3"
   ]
  },
  {
   "cell_type": "code",
   "execution_count": 15,
   "metadata": {},
   "outputs": [],
   "source": [
    "voiceEngine.save_to_file('hello world','test.mp3')"
   ]
  }
 ],
 "metadata": {
  "kernelspec": {
   "display_name": "Python 3",
   "language": "python",
   "name": "python3"
  },
  "language_info": {
   "codemirror_mode": {
    "name": "ipython",
    "version": 3
   },
   "file_extension": ".py",
   "mimetype": "text/x-python",
   "name": "python",
   "nbconvert_exporter": "python",
   "pygments_lexer": "ipython3",
   "version": "3.6.6"
  }
 },
 "nbformat": 4,
 "nbformat_minor": 2
}
